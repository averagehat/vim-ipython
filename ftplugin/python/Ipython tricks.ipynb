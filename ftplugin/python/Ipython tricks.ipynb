{
 "metadata": {
  "name": "",
  "signature": "sha256:2326c338a3f463001024488a8f3843f18599accb60da662e3801d21dee1adb7b"
 },
 "nbformat": 3,
 "nbformat_minor": 0,
 "worksheets": [
  {
   "cells": [
    {
     "cell_type": "markdown",
     "metadata": {},
     "source": [
      "```%rehashx```  <br>\n",
      "Adds the system path to ipython. No more need to prepend bash commands with \"!\"\n"
     ]
    },
    {
     "cell_type": "markdown",
     "metadata": {},
     "source": [
      "`%pdb on`<br>\n",
      "Force pdb whenever code hits an exception."
     ]
    },
    {
     "cell_type": "markdown",
     "metadata": {},
     "source": [
      "`run -d script`<br>\n",
      "Run script.py using the `ipdb` debugger, which has autocompletion and object introspection."
     ]
    },
    {
     "cell_type": "markdown",
     "metadata": {},
     "source": [
      "`%matplotlib inline`\n",
      "\n",
      "`matplotlib` visualizations show up in the notebook."
     ]
    },
    {
     "cell_type": "markdown",
     "metadata": {},
     "source": [
      "`%pycat` <br> like the bash-command `cat` but with Python syntax hilighting."
     ]
    },
    {
     "cell_type": "markdown",
     "metadata": {},
     "source": [
      "`text = !cat file.txt`\n",
      "Assign text to be the contents of `file.txt` as a list of lines (split on `\\n`)"
     ]
    },
    {
     "cell_type": "code",
     "collapsed": false,
     "input": [],
     "language": "python",
     "metadata": {},
     "outputs": []
    },
    {
     "cell_type": "markdown",
     "metadata": {},
     "source": [
      "``` url = 'http://icanhazip.com'\n",
      "result = !curl $url\n",
      "echo \"$result\"\n",
      "```\n",
      "\n",
      "\n",
      "Access ipython variables within bash by using `$`. Watch out for whitespaces and other things bash doesn't like, in this case we wrap `$result` in double-quotes."
     ]
    },
    {
     "cell_type": "markdown",
     "metadata": {},
     "source": [
      "`map?`<br>\n",
      "Get the docstring, type, etc."
     ]
    },
    {
     "cell_type": "code",
     "collapsed": false,
     "input": [
      "%cd \n",
      "%cd ~/phonim/vim-ipython/ftplugin/python\n",
      "%cd ..\n",
      "%cd -6"
     ],
     "language": "python",
     "metadata": {},
     "outputs": [
      {
       "output_type": "stream",
       "stream": "stdout",
       "text": [
        "/Users/wovenhead\n",
        "/Users/wovenhead/phonim/vim-ipython/ftplugin/python\n",
        "/Users/wovenhead/phonim/vim-ipython/ftplugin\n",
        "/Users/wovenhead\n"
       ]
      }
     ],
     "prompt_number": 70
    },
    {
     "cell_type": "code",
     "collapsed": false,
     "input": [
      "%cd?"
     ],
     "language": "python",
     "metadata": {},
     "outputs": [],
     "prompt_number": 18
    },
    {
     "cell_type": "code",
     "collapsed": false,
     "input": [
      "%hist"
     ],
     "language": "python",
     "metadata": {},
     "outputs": [
      {
       "output_type": "stream",
       "stream": "stdout",
       "text": [
        "map?\n",
        "map?\n",
        "print map?\n",
        "map??\n",
        "%man map\n",
        "cd ~/phonim/vim-ipython/ftplugin/python\n",
        "cd ..\n",
        "cd -2\n",
        "%cd ~/phonim/vim-ipython/ftplugin/python\n",
        "%cd ..\n",
        "%cd -2\n",
        "%cd ~/phonim/vim-ipython/ftplugin/python\n",
        "%cd ..\n",
        "%cd -2\n",
        "%cd ~/phonim/vim-ipython/ftplugin/python\n",
        "%cd ..\n",
        "%cd -1\n",
        "%cd \n",
        "%cd ~/phonim/vim-ipython/ftplugin/python\n",
        "%cd ..\n",
        "%cd -1\n",
        "%cd \n",
        "%cd ~/phonim/vim-ipython/ftplugin/python\n",
        "%cd ..\n",
        "%cd -2\n",
        "%cd \n",
        "%cd ~/phonim/vim-ipython/ftplugin/python\n",
        "%cd ..\n",
        "%cd -3\n",
        "%cd \n",
        "%cd ~/phonim/vim-ipython/ftplugin/python\n",
        "%cd ..\n",
        "%cd -0\n",
        "%cd \n",
        "%cd ~/phonim/vim-ipython/ftplugin/python\n",
        "%cd ..\n",
        "%cd -1\n",
        "%cd \n",
        "%cd ~/phonim/vim-ipython/ftplugin/python\n",
        "%cd ..\n",
        "%cd -5\n",
        "%cd \n",
        "%cd ~/phonim/vim-ipython/ftplugin/python\n",
        "%cd ..\n",
        "%cd -4\n",
        "man %cd\n",
        "%cd?\n",
        "%hist\n",
        "_\n",
        "_2\n",
        "_-1\n",
        "_0\n",
        "_i3\n",
        "_i3\n",
        "Get the output of the 3rd command in history\n",
        "_ \n",
        "Get the output for the last command\n",
        "_i3\n",
        "#Get the output of the 3rd command in history\n",
        "_ \n",
        "#Get the output for the last command\n",
        "_i3\n",
        "#Get the output of the 3rd command in history\n",
        "_ \n",
        "#Get the output for the last command\n",
        "cd -0\n",
        "cd -1\n",
        "cd -2\n",
        "cd ~\n",
        "cd -1\n",
        "cd -2\n",
        "cd ~\n",
        "cd --1\n",
        "cd?\n",
        "%cd?\n",
        "cd -06 [/Users/wovenhead]\n",
        "cd -01\n",
        "%cd -01\n",
        "%cd -06 [/Users/wovenhead]\n",
        "%cd -6 [/Users/wovenhead]\n",
        "%cd -6\n",
        "%cd --python\n",
        "%who\n",
        "s = \"foo\"\n",
        "%who\n",
        "%who?\n",
        "%%script bash --bg --out links\n",
        "%%script bash --bg --out links\n",
        "cat ipy.vim\n",
        "links\n",
        "links.read()\n",
        "%%script bash --bg --out  ip_address\n",
        "curl icanhazip.com\n",
        "ip_address.read()\n",
        "%%script bash --bg --out  ip_address\n",
        "curl icanhazip.com #run this in the background\n",
        "ip_address.read()\n",
        "url\n",
        "url = 'icanhazip.com'\n",
        "%%script bash --bg --out  ip_now\n",
        "curl $url #run this in the background\n",
        "ip_now\n",
        "ip_now.read()\n",
        "%%script bash --bg --out  ip_now\n",
        "curl $url #run this in the background\n",
        "ip_now.read()\n",
        "curl $url\n",
        "!curl $url\n",
        "%%script bash --bg --out  ip_now\n",
        "curl \"$url\"\n",
        "ip_now.read()\n",
        "%%script bash --bg --out  ip_now\n",
        "curl $url\n",
        "ip_now.read()\n",
        "%cd \n",
        "%cd ~/phonim/vim-ipython/ftplugin/python\n",
        "%cd ..\n",
        "%cd -6\n",
        "%hist[-1]\n",
        "%hist[-1]\n",
        "%hist[1]\n",
        "%hist[:10]\n",
        "%hist\n"
       ]
      }
     ],
     "prompt_number": 75
    },
    {
     "cell_type": "code",
     "collapsed": false,
     "input": [
      "_i3\n",
      "#Get the output of the 3rd command in history\n",
      "_ \n",
      "#Get the output for the last command"
     ],
     "language": "python",
     "metadata": {},
     "outputs": [
      {
       "metadata": {},
       "output_type": "pyout",
       "prompt_number": 27,
       "text": [
        "u'print map?'"
       ]
      }
     ],
     "prompt_number": 27
    },
    {
     "cell_type": "code",
     "collapsed": false,
     "input": [
      "%cd -6\n",
      "Go to the 6th directory you visited\n",
      "%cd -<tab> \n",
      "See the hisotry"
     ],
     "language": "python",
     "metadata": {},
     "outputs": [
      {
       "output_type": "stream",
       "stream": "stdout",
       "text": [
        "/Users/wovenhead\n"
       ]
      }
     ],
     "prompt_number": 43
    },
    {
     "cell_type": "code",
     "collapsed": false,
     "input": [
      "%cd --python\n",
      "Go to the directory in history matching the pattern \"python\"\n",
      "%bookmark\n",
      "bookmark a directory"
     ],
     "language": "python",
     "metadata": {},
     "outputs": [
      {
       "ename": "SyntaxError",
       "evalue": "invalid syntax (<ipython-input-76-0f639a48df93>, line 2)",
       "output_type": "pyerr",
       "traceback": [
        "\u001b[0;36m  File \u001b[0;32m\"<ipython-input-76-0f639a48df93>\"\u001b[0;36m, line \u001b[0;32m2\u001b[0m\n\u001b[0;31m    Go to the directory in history matching the pattern \"python\"\u001b[0m\n\u001b[0m        ^\u001b[0m\n\u001b[0;31mSyntaxError\u001b[0m\u001b[0;31m:\u001b[0m invalid syntax\n"
       ]
      }
     ],
     "prompt_number": 76
    },
    {
     "cell_type": "code",
     "collapsed": false,
     "input": [],
     "language": "python",
     "metadata": {},
     "outputs": []
    },
    {
     "cell_type": "code",
     "collapsed": false,
     "input": [
      "s = \"foo\""
     ],
     "language": "python",
     "metadata": {},
     "outputs": [],
     "prompt_number": 46
    },
    {
     "cell_type": "code",
     "collapsed": false,
     "input": [
      "%who\n",
      "List variables"
     ],
     "language": "python",
     "metadata": {},
     "outputs": [
      {
       "output_type": "stream",
       "stream": "stdout",
       "text": [
        "s\t \n"
       ]
      }
     ],
     "prompt_number": 47
    },
    {
     "cell_type": "code",
     "collapsed": false,
     "input": [
      "%who\n",
      "Display variables you've during your session\n",
      "%who? str int\n",
      "Display those variables which are of type str and int."
     ],
     "language": "python",
     "metadata": {},
     "outputs": [],
     "prompt_number": 48
    },
    {
     "cell_type": "code",
     "collapsed": false,
     "input": [
      "%%script bash --bg --out  ip_address\n",
      "curl icanhazip.com #run this in the background"
     ],
     "language": "python",
     "metadata": {},
     "outputs": [
      {
       "output_type": "stream",
       "stream": "stdout",
       "text": [
        "Starting job # 3 in a separate thread.\n"
       ]
      }
     ],
     "prompt_number": 55
    },
    {
     "cell_type": "code",
     "collapsed": false,
     "input": [
      "ip_address.read()"
     ],
     "language": "python",
     "metadata": {},
     "outputs": [
      {
       "metadata": {},
       "output_type": "pyout",
       "prompt_number": 56,
       "text": [
        "'108.44.93.88\\n'"
       ]
      }
     ],
     "prompt_number": 56
    },
    {
     "cell_type": "markdown",
     "metadata": {},
     "source": [
      "Run the defined script in the background, store it in ip_address. Unfotrunately `$` de-references don't work."
     ]
    }
   ],
   "metadata": {}
  }
 ]
}